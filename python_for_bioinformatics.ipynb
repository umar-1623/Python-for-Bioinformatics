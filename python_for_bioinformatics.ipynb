{
  "nbformat": 4,
  "nbformat_minor": 0,
  "metadata": {
    "colab": {
      "provenance": [],
      "include_colab_link": true
    },
    "kernelspec": {
      "name": "python3",
      "display_name": "Python 3"
    },
    "language_info": {
      "name": "python"
    }
  },
  "cells": [
    {
      "cell_type": "markdown",
      "metadata": {
        "id": "view-in-github",
        "colab_type": "text"
      },
      "source": [
        "<a href=\"https://colab.research.google.com/github/umar-1623/Python-for-Bioinformatics/blob/main/python_for_bioinformatics.ipynb\" target=\"_parent\"><img src=\"https://colab.research.google.com/assets/colab-badge.svg\" alt=\"Open In Colab\"/></a>"
      ]
    },
    {
      "cell_type": "markdown",
      "source": [
        "# python for bioinformatics"
      ],
      "metadata": {
        "id": "EBjGmNr0Pp_v"
      }
    },
    {
      "cell_type": "markdown",
      "source": [
        "**Day 1: Function to calculate the GC content for any DNA sequence.**"
      ],
      "metadata": {
        "id": "RGMbMJAwQJe1"
      }
    },
    {
      "cell_type": "code",
      "execution_count": null,
      "metadata": {
        "id": "BUiEIMj5MoSn",
        "colab": {
          "base_uri": "https://localhost:8080/",
          "height": 35
        },
        "outputId": "5ae7b4b5-fa4a-426e-aa00-ee41411569dd"
      },
      "outputs": [
        {
          "output_type": "execute_result",
          "data": {
            "text/plain": [
              "'dna_sequence = \"ATGCGCTAGCTAGCTGCTAGCTGCTAGCTAGCTAGCTAGCTAGCTAGCTAGCTAGCTAGCTAGCT\"\\ngc_percentage = calculate_gc_content(dna_sequence)\\nprint(f\"GC Content: {gc_percentage:.2f}%\")'"
            ],
            "application/vnd.google.colaboratory.intrinsic+json": {
              "type": "string"
            }
          },
          "metadata": {},
          "execution_count": 1
        }
      ],
      "source": [
        "#METHOD 1:\n",
        "\n",
        "#defining_a_function_to_calculate_GC_content_in_the_DNA_sequence\n",
        "def gc_content(base_seq):\n",
        " seq = base_seq.upper()\n",
        " return(seq.count('G')+seq.count('C'))/len(seq)\n",
        "#usage:\n",
        "'''seq60 = \"AATTCCCGGG\"\n",
        "gc_content(seq60)'''\n",
        "#output  0.6\n",
        "\n",
        "#METHOD 2:\n",
        "def calculate_gc_content(sequence):\n",
        " # Count the number of 'G' and 'C' characters in the sequence\n",
        " gc_count = sequence.count('G') + sequence.count('C')\n",
        "\n",
        " # Calculate_the_total_length_of_the_sequence\n",
        " sequence_length = len(sequence)\n",
        "\n",
        " # Calculate_the_GC_content_as_a_percentage\n",
        " gc_content = (gc_count / sequence_length) * 100.0\n",
        "\n",
        " return gc_content\n",
        "\n",
        "#usage:\n",
        "'''dna_sequence = \"ATGCGCTAGCTAGCTGCTAGCTGCTAGCTAGCTAGCTAGCTAGCTAGCTAGCTAGCTAGCTAGCT\"\n",
        "gc_percentage = calculate_gc_content(dna_sequence)\n",
        "print(f\"GC Content: {gc_percentage:.2f}%\")'''\n",
        "\n",
        "#output: GC Content: 52.31%\n"
      ]
    },
    {
      "cell_type": "markdown",
      "source": [
        "**Day 2: Function to validate DNA sequences.**"
      ],
      "metadata": {
        "id": "mP9WKRWSRGNA"
      }
    },
    {
      "cell_type": "code",
      "source": [
        "def validate_base_sequence(dna_seq):\n",
        " #define_a_set_of_valid_nucleotide_bases\n",
        " valid_bases = {'A', 'T', 'G', 'C'}\n",
        "\n",
        " #check_if_all_characters_in_the_DNA_sequence_are_in_the_valid_bases_set\n",
        " return all(base in valid_bases for base in dna_seq)\n",
        "\n",
        "#usage:\n",
        "seq1 = \"ATGCTGTAGGTAAGTAAGCG\"\n",
        "seq2 = \"ATGXGMGGGTCTA\"\n",
        "\n",
        "if validate_base_sequence(seq1):\n",
        " print(f\"seq1 is a valid DNA sequence.\")\n",
        "else:\n",
        " print(f\"seq1 contains invalid bases.\")\n",
        "\n",
        "if validate_base_sequence(seq2):\n",
        " print(f\"seq2 is a valid DNA sequence.\")\n",
        "else:\n",
        " print(f\"seq2 contains invalid bases.\")\n",
        "\n",
        "#output:\n",
        "'''seq1 is a valid DNA sequence.\n",
        "seq2 contains invalid bases.'''"
      ],
      "metadata": {
        "id": "mmOogh36M3m4",
        "colab": {
          "base_uri": "https://localhost:8080/",
          "height": 70
        },
        "outputId": "f73129d7-2792-4d97-ce38-1d3e2357b325"
      },
      "execution_count": null,
      "outputs": [
        {
          "output_type": "stream",
          "name": "stdout",
          "text": [
            "seq1 is a valid DNA sequence.\n",
            "seq2 contains invalid bases.\n"
          ]
        },
        {
          "output_type": "execute_result",
          "data": {
            "text/plain": [
              "'seq1 is a valid DNA sequence.\\nseq2 contains invalid bases.'"
            ],
            "application/vnd.google.colaboratory.intrinsic+json": {
              "type": "string"
            }
          },
          "metadata": {},
          "execution_count": 3
        }
      ]
    },
    {
      "cell_type": "markdown",
      "source": [
        "**Day 3: Function for recognizing restriction sites in a DNA sequence**"
      ],
      "metadata": {
        "id": "fT27IhkiRWSk"
      }
    },
    {
      "cell_type": "code",
      "source": [
        "#define_the_function_for_recognizing_restriction_site\n",
        "def find_recognition_sites(dna_seq, recognition_site):\n",
        " sites = []\n",
        " site_length = len(recognition_site)\n",
        "\n",
        " for i in range(len(dna_seq) - site_length + 1):\n",
        "  if dna_seq[i:i+site_length] == recognition_site:\n",
        "    sites.append(i)\n",
        "\n",
        " return sites\n",
        "\n",
        "#usage:\n",
        "dna_seq = \"AATGCTAGCTAGCTGCTAGCTGCTAGCTAGCTAGCTAGCTAGCTAGCTAGCTAGCTAGCTAGCTAGC\"\n",
        "recognition_site = \"GCTAGC\"\n",
        "\n",
        "site_positions = find_recognition_sites(dna_seq, recognition_site)\n",
        "\n",
        "if site_positions:\n",
        " print(f\"Recognition site '{recognition_site}' found at positions: {', '.join(map(str, site_positions))}\")\n",
        "else:\n",
        " print(f\"Recognition site '{recognition_site}' not found in the sequence.\")\n",
        "\n",
        "#output\n",
        "#Recognition site 'GCTAGC' found at positions: 3, 7, 14, 21, 25, 29, 33, 37, 41, 45, 49, 53, 57, 61"
      ],
      "metadata": {
        "id": "yrgtOxrAM7Y-",
        "colab": {
          "base_uri": "https://localhost:8080/"
        },
        "outputId": "9bd5c964-2315-49f0-a5a8-0e0806ac8a4c"
      },
      "execution_count": null,
      "outputs": [
        {
          "output_type": "stream",
          "name": "stdout",
          "text": [
            "Recognition site 'GCTAGC' found at positions: 3, 7, 14, 21, 25, 29, 33, 37, 41, 45, 49, 53, 57, 61\n"
          ]
        }
      ]
    },
    {
      "cell_type": "markdown",
      "source": [
        "**Day 4: Function for comparing two DNA sequences of equal length and calculating their percentage identity.**"
      ],
      "metadata": {
        "id": "CjR4-AK_RmMV"
      }
    },
    {
      "cell_type": "code",
      "source": [
        "#function\n",
        "def compare_dna_seq(seq1, seq2):\n",
        " if len(seq1) != len(seq2):\n",
        "  return None\n",
        "\n",
        " matching_nucleotides = 0\n",
        " total_nucleotides = len(seq1)\n",
        "\n",
        " for i in range(total_nucleotides):\n",
        "  if seq1[i] == seq2[i]:\n",
        "    matching_nucleotides += 1\n",
        "\n",
        " if total_nucleotides > 0:\n",
        "  percentage_identity = (matching_nucleotides / total_nucleotides) * 100\n",
        " else:\n",
        "  percentage_identity = 0\n",
        "\n",
        " return percentage_identity\n",
        "\n",
        "#usage:\n",
        "seq1 = \"ATGCTGCATAGCGATAA\"\n",
        "seq2 = \"ATGCTCGTATAGCGTAA\"\n",
        "identity = compare_dna_seq(seq1, seq2)\n",
        "\n",
        "if identity is not None:\n",
        " print(\"Percentage Identity:\", f\"{identity:.2f}%\")\n",
        "else:\n",
        " print(\"Sequences have different lengths and cannot be compared.\")\n",
        "\n",
        "#output\n",
        "#Percentage Identity: 47.06%"
      ],
      "metadata": {
        "id": "WKG-luuyNBMm",
        "colab": {
          "base_uri": "https://localhost:8080/"
        },
        "outputId": "ef51aa8b-ae63-4a96-ae76-6e7526b28236"
      },
      "execution_count": null,
      "outputs": [
        {
          "output_type": "stream",
          "name": "stdout",
          "text": [
            "Percentage Identity: 47.06%\n"
          ]
        }
      ]
    },
    {
      "cell_type": "markdown",
      "source": [
        "**Day 5: Functions to find the start codon and stop codon**"
      ],
      "metadata": {
        "id": "QWGvDW-QRw4l"
      }
    },
    {
      "cell_type": "code",
      "source": [
        "#defining_function_for_start_codon\n",
        "def find_start_codon(rna_seq):\n",
        " start_codon = \"AUG\"\n",
        " start_index = rna_seq.find(start_codon)\n",
        " return start_index\n",
        "\n",
        "#defining_function_for_stop_codon\n",
        "def find_stop_codon(rna_seq):\n",
        " stop_codons = [\"UAA\", \"UAG\", \"UGA\"]\n",
        " for stop_codon in stop_codons:\n",
        "  stop_index = rna_seq.find(stop_codon)\n",
        " if stop_index != -1:\n",
        "  return stop_index\n",
        " return -1\n",
        "\n",
        "#usage_Input_mRNA_sequence\n",
        "rna_seq = \"AUGGUACCUUAAAGGGCUAGAGTCGAAAUAGCGUAGUCG\"\n",
        "start_index = find_start_codon(rna_seq)\n",
        "stop_index = find_stop_codon(rna_seq)\n",
        "\n",
        "if start_index != -1:\n",
        " print(f\"Start codon found at index {start_index}\")\n",
        "else:\n",
        " print(\"Start codon not found in the sequence\")\n",
        "\n",
        "if stop_index != -1:\n",
        " print(f\"Stop codon found at index {stop_index}\")\n",
        "else:\n",
        " print(\"Stop codon not found in the sequence\")\n",
        "\n",
        "#output\n",
        "'''Start codon found at index 0\n",
        "Stop codon found at index 9'''"
      ],
      "metadata": {
        "id": "6BzEcBHlNHWe",
        "colab": {
          "base_uri": "https://localhost:8080/",
          "height": 70
        },
        "outputId": "78147cba-3ee8-42b0-d0a6-6ca7bfdde553"
      },
      "execution_count": null,
      "outputs": [
        {
          "output_type": "stream",
          "name": "stdout",
          "text": [
            "Start codon found at index 0\n",
            "Stop codon not found in the sequence\n"
          ]
        },
        {
          "output_type": "execute_result",
          "data": {
            "text/plain": [
              "'Start codon found at index 0\\nStop codon found at index 9'"
            ],
            "application/vnd.google.colaboratory.intrinsic+json": {
              "type": "string"
            }
          },
          "metadata": {},
          "execution_count": 8
        }
      ]
    },
    {
      "cell_type": "markdown",
      "source": [
        "**Day 6: Function to find the overlapping region between two DNA sequences.**"
      ],
      "metadata": {
        "id": "dQdXP0vuR_SW"
      }
    },
    {
      "cell_type": "code",
      "source": [
        "#function\n",
        "def find_overlap(seq1, seq2):\n",
        " overlap = 0\n",
        " for i in range(1, min(len(seq1), len(seq2)) + 1):\n",
        "  if seq1[-i:] == seq2[:i]:\n",
        "    overlap = i\n",
        " return overlap\n",
        "\n",
        "def extract_overlap(seq1, seq2, overlap):\n",
        " return seq1 + seq2[overlap:]\n",
        "\n",
        "#usage\n",
        "seq1 = \"TCGGTCACTTACGAGCGTTAGG\"\n",
        "seq2 = \"CGTTAGGCGGTAACCCCTTAAAGTCGG\"\n",
        "\n",
        "overlap = find_overlap(seq1, seq2)\n",
        "if overlap > 0:\n",
        " overlapping_seq = extract_overlap(seq1, seq2, overlap)\n",
        " print(f\"No of bases that overlap between the two sequences: {overlap} bases\")\n",
        " print(f\"The new overlapping sequence: {overlapping_seq}\")\n",
        " print(f\"Overlapped portion: {seq2[:overlap]}\")\n",
        "else:\n",
        " print(\"No overlap found between the two sequences.\")\n",
        "\n",
        "#output\n",
        "'''No of bases that overlap between the two sequences: 7 bases\n",
        "\n",
        "The new overlapping sequence:TCGGTCACTTACGAGCGTTAGGCGGTAACCCCTTAAAGTCGG\n",
        "\n",
        "Overlapped portion: CGTTAGG'''"
      ],
      "metadata": {
        "id": "RyK1YWwRNOSm",
        "colab": {
          "base_uri": "https://localhost:8080/",
          "height": 87
        },
        "outputId": "a65944ce-1287-4049-d89f-fdb67d123c8c"
      },
      "execution_count": null,
      "outputs": [
        {
          "output_type": "stream",
          "name": "stdout",
          "text": [
            "No of bases that overlap between the two sequences: 7 bases\n",
            "The new overlapping sequence: TCGGTCACTTACGAGCGTTAGGCGGTAACCCCTTAAAGTCGG\n",
            "Overlapped portion: CGTTAGG\n"
          ]
        },
        {
          "output_type": "execute_result",
          "data": {
            "text/plain": [
              "'No of bases that overlap between the two sequences: 7 bases\\n\\nThe new overlapping sequence:TCGGTCACTTACGAGCGTTAGGCGGTAACCCCTTAAAGTCGG\\n\\nOverlapped portion: CGTTAGG'"
            ],
            "application/vnd.google.colaboratory.intrinsic+json": {
              "type": "string"
            }
          },
          "metadata": {},
          "execution_count": 9
        }
      ]
    },
    {
      "cell_type": "markdown",
      "source": [
        "**Day 7: Python code to separate a multi-sequence FASTA file into individual FASTA files.**"
      ],
      "metadata": {
        "id": "rhDxeevZSXNT"
      }
    },
    {
      "cell_type": "code",
      "source": [
        "#open_FASTA_file_to_read\n",
        "with open(\"/content/rcsb_pdb_4DPI.fasta\", \"r\") as input_file:\n",
        " data = input_file.read()\n",
        "\n",
        "#split_the_file_into_individual_sequences\n",
        "sequences = data.strip().split(\">\")\n",
        "sequences = [\">\" + seq for seq in sequences if seq]\n",
        "\n",
        "#save_each_sequence_as_a_separate_file\n",
        "for sequence in sequences:\n",
        " lines = sequence.split(\"\\n\")\n",
        " header = lines[0]\n",
        " sequence_data = \"\\n\".join(lines[1:])\n",
        "\n",
        " #create_a_filename_using_the_sequence_header\n",
        " filename = f\"{header.split()[0]}.fasta\"\n",
        "\n",
        " #write_the_sequence_to_the_individual_FASTA_file\n",
        " with open(filename, \"w\") as output_file:\n",
        "  output_file.write(sequence)"
      ],
      "metadata": {
        "id": "Fl4lDw2zNVp9"
      },
      "execution_count": null,
      "outputs": []
    },
    {
      "cell_type": "markdown",
      "source": [
        "**Day 8: Python code to demonstrate various set operations on two sets of B cell and T cell epitopes.**"
      ],
      "metadata": {
        "id": "tIx1Z7fiSjvM"
      }
    },
    {
      "cell_type": "code",
      "source": [
        "#create_two_sets_of_B_cell_epitopes_and_T_cell_epitopes\n",
        "b_cell_epitopes = {\"epi1\", \"epi2\", \"epi3\", \"epi4\", \"epi5\"}\n",
        "t_cell_epitopes = {\"epi3\", \"epi4\", \"epi6\", \"epi7\", \"epi8\"}\n",
        "\n",
        "#performing_set_operations\n",
        "\n",
        "#Intersection: Common epitopes recognized by both B and T cells\n",
        "common_epitopes = b_cell_epitopes & t_cell_epitopes\n",
        "\n",
        "#Difference: Epitopes recognized by B cells but not T cells\n",
        "only_b_specific_epitopes = b_cell_epitopes - t_cell_epitopes\n",
        "\n",
        "#Union: All unique epitopes recognized by either B or T cells\n",
        "all_epitopes = b_cell_epitopes | t_cell_epitopes\n",
        "\n",
        "#Check if B cell epitopes are a subset of T cell epitopes\n",
        "is_b_cell_subset = b_cell_epitopes.issubset(t_cell_epitopes)\n",
        "\n",
        "#check if there are no common epitopes\n",
        "no_common_epitopes = len(common_epitopes) == 0\n",
        "\n",
        "#print_the_results\n",
        "\n",
        "print(\"Common Epitopes (Recognized by both B and T cells):\", common_epitopes)\n",
        "print(\"B Cell Specific Epitopes (Not recognized by T cells):\", only_b_specific_epitopes)\n",
        "print(\"All Unique Epitopes (B and T cell epitopes combined):\", all_epitopes)\n",
        "print(\"Are B cell epitopes a subset of T cell epitopes?\", is_b_cell_subset)\n",
        "print(\"Are there no common epitopes?\", no_common_epitopes)\n",
        "\n",
        "#output\n",
        "'''Common Epitopes (Recognized by both B and T cells): {'epi4', 'epi3'}\n",
        "\n",
        "B Cell Specific Epitopes (Not recognized by T cells): {'epi2', 'epi5', 'epi1'}\n",
        "\n",
        "All Unique Epitopes (B and T cell epitopes combined): {'epi5', 'epi8', 'epi4', 'epi3', 'epi1', 'epi6', 'epi7', 'epi2'}\n",
        "\n",
        "Are B cell epitopes a subset of T cell epitopes? False\n",
        "\n",
        "Are there no common epitopes? False'''"
      ],
      "metadata": {
        "id": "JEKtw-LENaBV",
        "colab": {
          "base_uri": "https://localhost:8080/",
          "height": 140
        },
        "outputId": "e1314208-2854-4f1d-b2df-912a7bff4a0e"
      },
      "execution_count": null,
      "outputs": [
        {
          "output_type": "stream",
          "name": "stdout",
          "text": [
            "Common Epitopes (Recognized by both B and T cells): {'epi4', 'epi3'}\n",
            "B Cell Specific Epitopes (Not recognized by T cells): {'epi5', 'epi2', 'epi1'}\n",
            "All Unique Epitopes (B and T cell epitopes combined): {'epi6', 'epi8', 'epi5', 'epi2', 'epi1', 'epi7', 'epi4', 'epi3'}\n",
            "Are B cell epitopes a subset of T cell epitopes? False\n",
            "Are there no common epitopes? False\n"
          ]
        },
        {
          "output_type": "execute_result",
          "data": {
            "text/plain": [
              "\"Common Epitopes (Recognized by both B and T cells): {'epi4', 'epi3'}\\n\\nB Cell Specific Epitopes (Not recognized by T cells): {'epi2', 'epi5', 'epi1'}\\n\\nAll Unique Epitopes (B and T cell epitopes combined): {'epi5', 'epi8', 'epi4', 'epi3', 'epi1', 'epi6', 'epi7', 'epi2'}\\n\\nAre B cell epitopes a subset of T cell epitopes? False\\n\\nAre there no common epitopes? False\""
            ],
            "application/vnd.google.colaboratory.intrinsic+json": {
              "type": "string"
            }
          },
          "metadata": {},
          "execution_count": 12
        }
      ]
    },
    {
      "cell_type": "markdown",
      "source": [
        "**Day 9: Python code for extracting specific sequences by ID from a large FASTA file.**"
      ],
      "metadata": {
        "id": "tDLbk-UYS320"
      }
    },
    {
      "cell_type": "code",
      "source": [
        "#function\n",
        "def extract_seq_by_id(fasta_file, target_id):\n",
        " #Initialize variables to keep track of sequence data\n",
        " sequence_id = None\n",
        " sequence_lines = []\n",
        "\n",
        " #Open the FASTA file for reading\n",
        " with open(fasta_file, \"r\") as file:\n",
        "  for line in file:\n",
        "    line = line.strip()\n",
        "    if line.startswith(\">\"):\n",
        "  #Check if it's the target sequence ID\n",
        "      if sequence_id == target_id:\n",
        "        return \"\\n\".join(sequence_lines)\n",
        "      sequence_id = line[1:] # Remove \">\" from the header\n",
        "      sequence_lines = [] # Start collecting new sequence\n",
        "    else:\n",
        "      sequence_lines.append(line)\n",
        "\n",
        " #Check the last sequence in the file\n",
        " if sequence_id == target_id:\n",
        "  return \"\\n\".join(sequence_lines)\n",
        "\n",
        " #Sequence not found\n",
        " return None\n",
        "\n",
        "#usage:\n",
        "fasta_file = \"/content/>4DPI_1|Chain.fasta\" #Replace with your FASTA file\n",
        "target_sequence_id = \"Your_Target_ID\" #Replace with the ID you want to extract\n",
        "\n",
        "sequence = extract_seq_by_id(fasta_file, target_sequence_id)\n",
        "\n",
        "if sequence:\n",
        " print(f\"Sequence {target_sequence_id}:\\n{sequence}\")\n",
        "else:\n",
        " print(f\"Sequence {target_sequence_id} not found.\")"
      ],
      "metadata": {
        "id": "jQxHvIUtNiId",
        "colab": {
          "base_uri": "https://localhost:8080/"
        },
        "outputId": "279e6d99-59f5-4876-81a6-e99dfe0fb820"
      },
      "execution_count": null,
      "outputs": [
        {
          "output_type": "stream",
          "name": "stdout",
          "text": [
            "Sequence Your_Target_ID not found.\n"
          ]
        }
      ]
    },
    {
      "cell_type": "markdown",
      "source": [
        "**Day 10: Python code for extracting GenInfo IDs of the sequences in FASTA file.**"
      ],
      "metadata": {
        "id": "T38K5ULMTJmk"
      }
    },
    {
      "cell_type": "code",
      "source": [
        "#define_function\n",
        "def collect_gi_ids(fasta_file):\n",
        " gi_ids = []\n",
        "\n",
        " #Open_the_FASTA_file_for_reading\n",
        " with open(fasta_file, \"r\") as file:\n",
        "  for line in file:\n",
        "    line = line.strip()\n",
        "  if line.startswith(\">\"):\n",
        "  #Extracting_the_GI_ID from the sequence header\n",
        "    header = line[1:]\n",
        "    gi_id = header.split()[0]\n",
        " #Assuming_the_GI_ID_is_the_first_word\n",
        "    gi_ids.append(gi_id)\n",
        "\n",
        " return gi_ids\n",
        "\n",
        "#usage:\n",
        "fasta_file = \"/content/>4DPI_1|Chain.fasta\"\n",
        "\n",
        "gi_ids = collect_gi_ids(fasta_file)\n",
        "\n",
        "#Print_the_GI_IDs\n",
        "for gi_id in gi_ids:\n",
        " print(\"GI ID:\", gi_id)"
      ],
      "metadata": {
        "id": "NFc6ieObNnAv"
      },
      "execution_count": null,
      "outputs": []
    },
    {
      "cell_type": "markdown",
      "source": [
        "**Day 11: Python code to read sequences from a FASTQ file.**"
      ],
      "metadata": {
        "id": "sULP-9_PTZIr"
      }
    },
    {
      "cell_type": "code",
      "source": [
        "#define_function\n",
        "def read_fastq_file(file_path):\n",
        " sequences = []\n",
        " quality_scores = []\n",
        "\n",
        " with open(file_path, \"r\") as file:\n",
        "  for line in file:\n",
        "    line = line.strip()\n",
        "    if line.startswith(\"@\"):\n",
        " #Read_the_sequence_header\n",
        "      header = line\n",
        "      sequence = next(file).strip()\n",
        "      plus_line = next(file).strip()\n",
        "      quality = next(file).strip()\n",
        "\n",
        " sequences.append(sequence)\n",
        " quality_scores.append(quality)\n",
        "\n",
        " return sequences, quality_scores\n",
        "\n",
        "#usage:\n",
        "fastq_file = \"/content/1_control_18S_2019_minq7 - Copy.fastq\"\n",
        "\n",
        "sequences, quality_scores = read_fastq_file(fastq_file)\n",
        "\n",
        " #Print the first few sequences and quality scores\n",
        "for i in range(min(5, len(sequences))):\n",
        " print(\"Sequence:\")\n",
        " print(sequences[i])\n",
        " print(\"Quality Scores:\")\n",
        " print(quality_scores[i])\n",
        " print(\"\\n\")\n"
      ],
      "metadata": {
        "id": "8Sx6dGm1NqY3",
        "colab": {
          "base_uri": "https://localhost:8080/"
        },
        "outputId": "9187d95b-4d7a-4d3c-aa93-2a0d278bbcc0"
      },
      "execution_count": null,
      "outputs": [
        {
          "output_type": "stream",
          "name": "stdout",
          "text": [
            "Sequence:\n",
            "GTTGTGCGCGTTCGATTATCAGGTAGGTGTTATGTTGCGCCGCCTACCGTGACAAGAAAGTTATCGTTATCTTTGTATTTCTATTGGGTAAATGTTGCCACACCGCGCGTCGCTACTACCGATTGTTTCTGTTGGTCTTAAAAACACGGACCAAGGAGTCTGAAGATAGGCGACGGGCAAGTCACGAGAACACCAAACAACTTTCTTGTC\n",
            "Quality Scores:\n",
            "&%&%'$#(/39-)&#'(%%-$&#'$-0.'./)'%%(,+.,/%$$*&')-978:./1773:72(-*$*/.34,.0-1001-5.+*+)+22#&,))37$)*%$'(*+**',50323+5:6,:ECCE0;>@575AA6800.-$%%'%,')28@25&(&)$*%'$%$,674-.*.5,5&*59()(57)-$&)&25,,7&&),$%\"#$%%#$$%%\n",
            "\n",
            "\n"
          ]
        }
      ]
    },
    {
      "cell_type": "markdown",
      "source": [
        "**Day 12: Python code to transcribe DNA into RNA.**"
      ],
      "metadata": {
        "id": "VKhcB_HpV40j"
      }
    },
    {
      "cell_type": "code",
      "source": [
        "#1. >> Using String Replace <<\n",
        "\n",
        " #Define_a_DNA_sequence\n",
        "dna_seq = \"ATGCTTTGTCATGC\"\n",
        "\n",
        " #Transcribe_DNA_to_RNA_using_string_replace\n",
        "rna_seq = dna_seq.replace(\"T\", \"U\")\n",
        "\n",
        " #Print_the_RNA_sequence\n",
        "print(\"RNA Sequence:\", rna_seq)\n",
        "\n",
        " #output RNA Sequence: AUGCUUUGUCAUGC\n",
        "\n",
        "\n",
        "# 2. >> Using function <<\n",
        "\n",
        " #define_function\n",
        "def transcribe_dna_to_rna(dna_seq):\n",
        " rna_seq = \"\"\n",
        " for base in dna_seq:\n",
        "  if base == \"T\":\n",
        "    rna_seq += \"U\"\n",
        "  else:\n",
        "    rna_seq += base\n",
        " return rna_seq\n",
        "\n",
        " #input_a_DNA_sequence\n",
        "dna_seq = \"ATTCAGTTCTGTATTG\"\n",
        "\n",
        " #Transcribe_DNA_to_RNA\n",
        "rna_seq = transcribe_dna_to_rna(dna_seq)\n",
        "\n",
        " #Print_the_RNA_sequence\n",
        "print(\"RNA Sequence:\", rna_seq)\n",
        "\n",
        " #output RNA Sequence: AUUCAGUUCUGUAUUG"
      ],
      "metadata": {
        "id": "v87nSwSQNyRW",
        "colab": {
          "base_uri": "https://localhost:8080/"
        },
        "outputId": "1d32c8f4-6241-45fe-bded-b4f0f12dd1c6"
      },
      "execution_count": null,
      "outputs": [
        {
          "output_type": "stream",
          "name": "stdout",
          "text": [
            "RNA Sequence: AUGCUUUGUCAUGC\n",
            "RNA Sequence: AUUCAGUUCUGUAUUG\n"
          ]
        }
      ]
    },
    {
      "cell_type": "markdown",
      "source": [
        "**Day 13: Python code to count point mutations between two DNA sequences of equal length.**"
      ],
      "metadata": {
        "id": "orKzroVJWRuK"
      }
    },
    {
      "cell_type": "code",
      "source": [
        "#define_function\n",
        "\n",
        "def count_point_mutations(seq1, seq2):\n",
        " if len(seq1) != len(seq2):\n",
        "  raise ValueError(\"Input sequences must be of the same length\")\n",
        "\n",
        " mutations = 0\n",
        "\n",
        " for base1, base2 in zip(seq1, seq2):\n",
        "  if base1 != base2:\n",
        "    mutations += 1\n",
        "\n",
        " return mutations\n",
        "\n",
        "#usage:\n",
        "seq1 = \"GAGCCTACTAACGGGATA\"\n",
        "seq2 = \"CATCGTAATGACGGCCTG\"\n",
        "\n",
        "mutations = count_point_mutations(seq1, seq2)\n",
        "print(f\"No of point mutations found: {mutations}\")\n",
        "\n",
        "#output No of point mutations found: 8"
      ],
      "metadata": {
        "id": "0ob-9i9VN2jm",
        "colab": {
          "base_uri": "https://localhost:8080/"
        },
        "outputId": "79c3c181-8828-4afe-8142-303b5cb50e63"
      },
      "execution_count": null,
      "outputs": [
        {
          "output_type": "stream",
          "name": "stdout",
          "text": [
            "No of point mutations found: 8\n"
          ]
        }
      ]
    },
    {
      "cell_type": "markdown",
      "source": [
        "**Day 14: Python code to calculate the Hamming distance between two DNA sequences of equal length.**"
      ],
      "metadata": {
        "id": "xj3tMy_OWdvr"
      }
    },
    {
      "cell_type": "code",
      "source": [
        " #define_function\n",
        "def hamming_distance(seq1, seq2):\n",
        "  if len(seq1) != len(seq2):\n",
        "    raise ValueError(\"Input sequences must have the same length\")\n",
        "\n",
        "  distance = 0\n",
        "  for base1, base2 in zip(seq1, seq2):\n",
        "    if base1 != base2:\n",
        "      distance += 1\n",
        "  return distance\n",
        "\n",
        " #usage\n",
        "seq1 = \"GAGCCTACTAACTGGGATA\"\n",
        "seq2 = \"CATCGTAATGACAGGCCTA\"\n",
        "distance = hamming_distance(seq1, seq2)\n",
        "print(f\"Hamming Distance: {distance}\")\n",
        "\n",
        " #output  Hamming Distance: 8"
      ],
      "metadata": {
        "id": "RGPxIdqiN5YG",
        "colab": {
          "base_uri": "https://localhost:8080/"
        },
        "outputId": "2942ff88-5872-4e36-abe6-d12c13babe49"
      },
      "execution_count": null,
      "outputs": [
        {
          "output_type": "stream",
          "name": "stdout",
          "text": [
            "Hamming Distance: 8\n"
          ]
        }
      ]
    },
    {
      "cell_type": "markdown",
      "source": [
        "**Day 15: Python code to identify and extract GC-rich regions within a DNA sequence.**"
      ],
      "metadata": {
        "id": "AXLey8xCWq7J"
      }
    },
    {
      "cell_type": "code",
      "source": [
        "#define_function\n",
        "def find_gc_rich_regions(sequence, window_size, gc_threshold):\n",
        " gc_rich_regions = []\n",
        "\n",
        " for start in range(len(sequence) - window_size + 1):\n",
        "  region = sequence[start:start + window_size]\n",
        "  gc_content = (region.count('G') + region.count('C')) / window_size\n",
        "\n",
        " if gc_content >= gc_threshold:\n",
        "  gc_rich_regions.append((start, start + window_size, gc_content))\n",
        "\n",
        " return gc_rich_regions\n",
        "\n",
        " #usage\n",
        "dna_sequence = \"ATGCGCATGCAGTACGCTAGCGCAGTGCTAGCGCATGCGCGC\"\n",
        "window_size = 15\n",
        "gc_threshold = 0.6\n",
        "\n",
        "regions = find_gc_rich_regions(dna_sequence, window_size, gc_threshold)\n",
        "\n",
        "for start, end, gc_content in regions:\n",
        " print(f\"GC-rich Region: Start={start}, End={end}, GC Content={gc_content:.2f}\")\n",
        "\n",
        " #output\n",
        "'''GC-rich Region: Start=1, End=16, GC Content=0.60\n",
        "GC-rich Region: Start=2, End=17, GC Content=0.67\n",
        "GC-rich Region: Start=3, End=18, GC Content=0.60\n",
        "GC-rich Region: Start=7, End=22, GC Content=0.60\n",
        "GC-rich Region: Start=8, End=23, GC Content=0.67\n",
        "GC-rich Region: Start=9, End=24, GC Content=0.60\n",
        "GC-rich Region: Start=10, End=25, GC Content=0.60\n",
        "GC-rich Region: Start=11, End=26, GC Content=0.60\n",
        "GC-rich Region: Start=12, End=27, GC Content=0.60\n",
        "GC-rich Region: Start=13, End=28, GC Content=0.67\n",
        "GC-rich Region: Start=14, End=29, GC Content=0.67\n",
        "GC-rich Region: Start=15, End=30, GC Content=0.60\n",
        "GC-rich Region: Start=16, End=31, GC Content=0.60\n",
        "GC-rich Region: Start=17, End=32, GC Content=0.60\n",
        "GC-rich Region: Start=18, End=33, GC Content=0.67\n",
        "GC-rich Region: Start=19, End=34, GC Content=0.73\n",
        "GC-rich Region: Start=20, End=35, GC Content=0.67\n",
        "GC-rich Region: Start=21, End=36, GC Content=0.60\n",
        "GC-rich Region: Start=22, End=37, GC Content=0.60\n",
        "GC-rich Region: Start=23, End=38, GC Content=0.60\n",
        "GC-rich Region: Start=24, End=39, GC Content=0.67\n",
        "GC-rich Region: Start=25, End=40, GC Content=0.67\n",
        "GC-rich Region: Start=26, End=41, GC Content=0.73\n",
        "GC-rich Region: Start=27, End=42, GC Content=0.73'''"
      ],
      "metadata": {
        "id": "65NGiTe1N-Ce",
        "colab": {
          "base_uri": "https://localhost:8080/",
          "height": 140
        },
        "outputId": "ec7b74f5-320f-488f-b478-6a8921806a07"
      },
      "execution_count": null,
      "outputs": [
        {
          "output_type": "stream",
          "name": "stdout",
          "text": [
            "GC-rich Region: Start=27, End=42, GC Content=0.73\n"
          ]
        },
        {
          "output_type": "execute_result",
          "data": {
            "text/plain": [
              "'GC-rich Region: Start=1, End=16, GC Content=0.60\\nGC-rich Region: Start=2, End=17, GC Content=0.67\\nGC-rich Region: Start=3, End=18, GC Content=0.60\\nGC-rich Region: Start=7, End=22, GC Content=0.60\\nGC-rich Region: Start=8, End=23, GC Content=0.67\\nGC-rich Region: Start=9, End=24, GC Content=0.60\\nGC-rich Region: Start=10, End=25, GC Content=0.60\\nGC-rich Region: Start=11, End=26, GC Content=0.60\\nGC-rich Region: Start=12, End=27, GC Content=0.60\\nGC-rich Region: Start=13, End=28, GC Content=0.67\\nGC-rich Region: Start=14, End=29, GC Content=0.67\\nGC-rich Region: Start=15, End=30, GC Content=0.60\\nGC-rich Region: Start=16, End=31, GC Content=0.60\\nGC-rich Region: Start=17, End=32, GC Content=0.60\\nGC-rich Region: Start=18, End=33, GC Content=0.67\\nGC-rich Region: Start=19, End=34, GC Content=0.73\\nGC-rich Region: Start=20, End=35, GC Content=0.67\\nGC-rich Region: Start=21, End=36, GC Content=0.60\\nGC-rich Region: Start=22, End=37, GC Content=0.60\\nGC-rich Region: Start=23, End=38, GC Content=0.60\\nGC-rich Region: Start=24, End=39, GC Content=0.67\\nGC-rich Region: Start=25, End=40, GC Content=0.67\\nGC-rich Region: Start=26, End=41, GC Content=0.73\\nGC-rich Region: Start=27, End=42, GC Content=0.73'"
            ],
            "application/vnd.google.colaboratory.intrinsic+json": {
              "type": "string"
            }
          },
          "metadata": {},
          "execution_count": 20
        }
      ]
    },
    {
      "cell_type": "markdown",
      "source": [
        "**Day 17 : Python code in a bioinformatics context where one function calls another function.**"
      ],
      "metadata": {
        "id": "tHusciSXW28K"
      }
    },
    {
      "cell_type": "code",
      "source": [
        "# Function to calculate GC content of a DNA sequence\n",
        "def calculate_gc_content(dna_seq):\n",
        " gc_count = 0\n",
        " for base in dna_seq:\n",
        "  if base == 'G' or base == 'C':\n",
        "    gc_count += 1\n",
        "    total_bases = len(dna_seq)\n",
        "    gc_content = (gc_count / total_bases) * 100\n",
        " return gc_content\n",
        "\n",
        "# Function to analyze the base composition of a DNA sequence\n",
        "def analyze_base_composition(dna_seq):\n",
        " # 'analyze_base_composition' function calls the 'calculate_gc_content' function\n",
        " gc_content = calculate_gc_content(dna_seq)\n",
        "\n",
        " # Print the results\n",
        " print(f\"DNA sequence: {dna_seq}\")\n",
        " print(f\"GC Content: {gc_content:.2f}%\")\n",
        "\n",
        "# usage\n",
        "dna_seq = \"ATGCTATGATTGCCGTGCTA\"\n",
        "analyze_base_composition(dna_seq)\n",
        "\n",
        "#output\n",
        "'''DNA sequence: ATGCTATGATTGCCGTGCTA\n",
        "GC Content: 45.00%'''"
      ],
      "metadata": {
        "id": "dGGJvLGiOBMG",
        "colab": {
          "base_uri": "https://localhost:8080/",
          "height": 70
        },
        "outputId": "7977596d-71c4-4b23-a7f2-e9bae24a181d"
      },
      "execution_count": null,
      "outputs": [
        {
          "output_type": "stream",
          "name": "stdout",
          "text": [
            "DNA sequence: ATGCTATGATTGCCGTGCTA\n",
            "GC Content: 45.00%\n"
          ]
        },
        {
          "output_type": "execute_result",
          "data": {
            "text/plain": [
              "'DNA sequence: ATGCTATGATTGCCGTGCTA\\nGC Content: 45.00%'"
            ],
            "application/vnd.google.colaboratory.intrinsic+json": {
              "type": "string"
            }
          },
          "metadata": {},
          "execution_count": 21
        }
      ]
    },
    {
      "cell_type": "markdown",
      "source": [
        "**Day 18 : Python code to demonstrate various operations on DNA sequences using slicing and indexing.**"
      ],
      "metadata": {
        "id": "LW9kAprlXC2i"
      }
    },
    {
      "cell_type": "code",
      "source": [
        "# DNA sequence\n",
        "dna_seq = \"ATGCTAGTCATGCGTA\"\n",
        "\n",
        "# 1. Access individual bases using indexing\n",
        "first_base = dna_seq[0]\n",
        "second_base = dna_seq[1]\n",
        "last_base = dna_seq[-1]\n",
        "\n",
        "# 2. Slicing to extract subsequences\n",
        "subsequence = dna_seq[3:7] # Extracts \"CTAG\"\n",
        "prefix = dna_seq[:3]      # Extracts \"ATG\"\n",
        "suffix = dna_seq[7:]      # Extracts \"TCATGCGTA\"\n",
        "\n",
        "# 3. Reversing the DNA sequence using slicing\n",
        "reversed_sequence = dna_seq[::-1] # Reverses the sequence\n",
        "\n",
        "# 4. Counting occurrences of a specific base\n",
        "count_A = dna_seq.count('A')\n",
        "count_C = dna_seq.count('C')\n",
        "\n",
        "# 5. Finding the position of a specific motif\n",
        "motif = \"CTA\"\n",
        "motif_position = dna_seq.find(motif)\n",
        "\n",
        "# 6. Changing a base at a specific position\n",
        "mutated_sequence = dna_seq[:5] + 'T' + dna_seq[6:]   # Changing at index = 5 or the 6th element\n",
        "\n",
        "# Print the results\n",
        "print(f\"Original DNA Sequence: {dna_seq}\")\n",
        "print(f\"First Base: {first_base}\")\n",
        "print(f\"Second Base: {second_base}\")\n",
        "print(f\"Last Base: {last_base}\")\n",
        "print(f\"Subsequence: {subsequence}\")\n",
        "print(f\"Prefix: {prefix}\")\n",
        "print(f\"Suffix: {suffix}\")\n",
        "print(f\"Reversed Sequence: {reversed_sequence}\")\n",
        "print(f\"Count of 'A': {count_A}\")\n",
        "print(f\"Count of 'C': {count_C}\")\n",
        "print(f\"Position of motif '{motif}': {motif_position}\")\n",
        "print(f\"Mutated Sequence: {mutated_sequence}\")\n",
        "\n",
        "# Output\n",
        "'''Original DNA Sequence: ATGCTAGTCATGCGTA\n",
        "First Base: A\n",
        "Second Base: T\n",
        "Last Base: A\n",
        "Subsequence: CTAG\n",
        "Prefix: ATG\n",
        "Suffix: TCATGCGTA\n",
        "Reversed Sequence: ATGCGTACTGATCGTA\n",
        "Count of 'A': 4\n",
        "Count of 'C': 3\n",
        "Position of motif 'CTA': 3\n",
        "Mutated Sequence: ATGCTTGTCATGCGTA\n",
        "\n",
        "***Please suggest more on indexing and slicing in the comment box.'''"
      ],
      "metadata": {
        "id": "xScf2YzAOFwe",
        "colab": {
          "base_uri": "https://localhost:8080/",
          "height": 261
        },
        "outputId": "eb956731-8d4d-4344-eaef-7a07e749ee3a"
      },
      "execution_count": null,
      "outputs": [
        {
          "output_type": "stream",
          "name": "stdout",
          "text": [
            "Original DNA Sequence: ATGCTAGTCATGCGTA\n",
            "First Base: A\n",
            "Second Base: T\n",
            "Last Base: A\n",
            "Subsequence: CTAG\n",
            "Prefix: ATG\n",
            "Suffix: TCATGCGTA\n",
            "Reversed Sequence: ATGCGTACTGATCGTA\n",
            "Count of 'A': 4\n",
            "Count of 'C': 3\n",
            "Position of motif 'CTA': 3\n",
            "Mutated Sequence: ATGCTTGTCATGCGTA\n"
          ]
        },
        {
          "output_type": "execute_result",
          "data": {
            "text/plain": [
              "\"Original DNA Sequence: ATGCTAGTCATGCGTA\\nFirst Base: A\\nSecond Base: T\\nLast Base: A\\nSubsequence: CTAG\\nPrefix: ATG\\nSuffix: TCATGCGTA\\nReversed Sequence: ATGCGTACTGATCGTA\\nCount of 'A': 4\\nCount of 'C': 3\\nPosition of motif 'CTA': 3\\nMutated Sequence: ATGCTTGTCATGCGTA\\n\\n***Please suggest more on indexing and slicing in the comment box.\""
            ],
            "application/vnd.google.colaboratory.intrinsic+json": {
              "type": "string"
            }
          },
          "metadata": {},
          "execution_count": 22
        }
      ]
    },
    {
      "cell_type": "markdown",
      "source": [
        "**Day 19 : Python code to demonstrate various operations using NumPy.**"
      ],
      "metadata": {
        "id": "t32I7TtvXLci"
      }
    },
    {
      "cell_type": "code",
      "source": [
        "# import NumPy\n",
        "import numpy as np\n",
        "\n",
        "# define a DNA sequence\n",
        "sequence = \"ATGCGTAAAGTTTAGCTAGTATATAGAATGCGTAAAGTTTAGCT\"\n",
        "\n",
        "# Step 1: Count Nucleotide Frequencies\n",
        "nucleotides = ['A', 'T', 'C', 'G']\n",
        "frequency = {nucleotide: np.sum(np.array(list(sequence)) == nucleotide) for nucleotide in nucleotides}\n",
        "\n",
        "print(\"Nucleotide Frequencies:\")\n",
        "for nt, count in frequency.items():\n",
        " print(f\"{nt}: {count}\")\n",
        "\n",
        "# Step 2: Identify Motifs\n",
        "motif = \"ATG\"\n",
        "motif_positions = [i for i in range(len(sequence) - len(motif) + 1) if sequence[i:i + len(motif)] == motif]\n",
        "\n",
        "print(\"\\nMotif Positions:\")\n",
        "print(motif_positions)\n",
        "\n",
        "# Step 3: Find Open Reading Frames (ORFs)\n",
        "start_codon = \"ATG\"\n",
        "stop_codons = [\"TAA\", \"TAG\", \"TGA\"]\n",
        "orf_positions = []\n",
        "\n",
        "i = 0\n",
        "while i < len(sequence):\n",
        " if sequence[i:i + 3] == start_codon:\n",
        "  j = i + 3\n",
        " while j < len(sequence):\n",
        "  codon = sequence[j:j + 3]\n",
        " if codon in stop_codons:\n",
        "  orf_positions.append((i, j + 3))\n",
        " break\n",
        " j += 3\n",
        " i += 3\n",
        "\n",
        "print(\"\\nOpen Reading Frames:\")\n",
        "for start, end in orf_positions:\n",
        " print(sequence[start:end])\n",
        "\n",
        "# Output\n",
        "'''Nucleotide Frequencies:\n",
        "A: 15\n",
        "T: 15\n",
        "C: 4\n",
        "G: 10\n",
        "\n",
        "Motif Positions:\n",
        "[0, 27]\n",
        "\n",
        "Open Reading Frames:\n",
        "ATGCGTAAAGTTTAG\n",
        "ATGCGTAAAGTTTAG\n",
        "\n",
        "***Note: In real-world bioinformatics applications, we work with longer sequences and may need to employ more advanced algorithms.'''"
      ],
      "metadata": {
        "id": "gAohelF3OPWl"
      },
      "execution_count": null,
      "outputs": []
    },
    {
      "cell_type": "markdown",
      "source": [
        "**Day 20 : Python code to demonstrate some common bioinformatics operations using pandas.**"
      ],
      "metadata": {
        "id": "EGCit4l8XU57"
      }
    },
    {
      "cell_type": "code",
      "source": [
        "import pandas as pd\n",
        "\"\"\"This line imports the pandas library and assigns a short name as \"pd\" for convenience.\"\"\"\n",
        "\n",
        "# Read a FASTA file containing DNA sequences\n",
        "\"\"\"This function takes a file path as an argument and reads DNA sequences from a FASTA file. \"\"\"\n",
        "\n",
        "def read_fasta(file_path):\n",
        "  sequences = {}\n",
        "  current_sequence_name = \"\"\n",
        "  with open(file_path, \"r\") as fasta_file:\n",
        "    for line in fasta_file:\n",
        "      line = line.strip()\n",
        "      if line.startswith(\">\"):\n",
        "        current_sequence_name = line[1:]\n",
        "        \"\"\"The Above line=> If the line starts with '>',\n",
        "          it extracts the sequence name by removing the '>' character\n",
        "          and stores it in the current_sequence_name variable\"\"\"\n",
        "\n",
        "        sequences[current_sequence_name] = \"\"\n",
        "      else:\n",
        "        sequences[current_sequence_name] += line\n",
        "  return sequences\n",
        "\n",
        "# Read a FASTA file\n",
        "fasta_data = read_fasta(\"/content/rcsb_pdb_4DPI.fasta\")\n",
        "sequence_df = pd.DataFrame(list(fasta_data.items()), columns=[\"Name\", \"Sequence\"])\n",
        "\"\"\"The above line converts the dictionary fasta_data into a pandas DataFrame.\n",
        "The DataFrame has two columns: \"Name\" for sequence names and \"Sequence\" for the DNA sequences\"\"\"\n",
        "\n",
        "print(\"FASTA file data:\")\n",
        "print(sequence_df)\n",
        "\n",
        "# Calculate the GC content of DNA sequences\n",
        "\"\"\"This example demonstrates how to use the created DataFrame to calculate GC content\"\"\"\n",
        "\n",
        "def calculate_gc_content(sequence):\n",
        " gc_count = sequence.count(\"G\") + sequence.count(\"C\")\n",
        " return (gc_count / len(sequence)) * 100\n",
        "\n",
        "sequence_df[\"GC_Content(%)\"] = sequence_df[\"Sequence\"].apply(calculate_gc_content)\n",
        "\n",
        "print(\"\\nDNA sequences with GC content:\")\n",
        "print(sequence_df)"
      ],
      "metadata": {
        "id": "Ck1sgIOzOUi-",
        "colab": {
          "base_uri": "https://localhost:8080/"
        },
        "outputId": "51026b9b-c54e-4e23-ddaf-7a0b1c6fa82a"
      },
      "execution_count": null,
      "outputs": [
        {
          "output_type": "stream",
          "name": "stdout",
          "text": [
            "FASTA file data:\n",
            "                                                Name  \\\n",
            "0  4DPI_1|Chain A|Beta-secretase 1|Homo sapiens (...   \n",
            "\n",
            "                                            Sequence  \n",
            "0  MRGSFVEMVDNLRGKSGQGYYVEMTVGSPPQTLNILVDTGSSNFAV...  \n",
            "\n",
            "DNA sequences with GC content:\n",
            "                                                Name  \\\n",
            "0  4DPI_1|Chain A|Beta-secretase 1|Homo sapiens (...   \n",
            "\n",
            "                                            Sequence  GC_Content(%)  \n",
            "0  MRGSFVEMVDNLRGKSGQGYYVEMTVGSPPQTLNILVDTGSSNFAV...      10.230179  \n"
          ]
        }
      ]
    },
    {
      "cell_type": "markdown",
      "source": [
        "**Day 21 : Python code to perform comparative genomics using pandas with two FASTA files.**"
      ],
      "metadata": {
        "id": "Wr3pnfPaXdvz"
      }
    },
    {
      "cell_type": "code",
      "source": [
        "# Import the pandas library\n",
        "import pandas as pd\n",
        "\n",
        "# Function to read DNA sequences from a FASTA file\n",
        "def read_fasta(file_path):\n",
        " sequences = {}\n",
        " current_sequence_name = \"\"\n",
        " with open(file_path, \"r\") as fasta_file:\n",
        "  for line in fasta_file:\n",
        "    line = line.strip()\n",
        "  if line.startswith(\">\"):\n",
        "    current_sequence_name = line[1:]\n",
        "    sequences[current_sequence_name] = \"4DPI_1\"\n",
        "  else:\n",
        "    sequences[current_sequence_name] += line\n",
        " return sequences\n",
        "\n",
        "# Read DNA sequences from two FASTA files\n",
        "seq1_data = read_fasta(\"/content/>4DPI_1|Chain.fasta\")\n",
        "seq2_data = read_fasta(\"/content/rcsb_pdb_4DPI.fasta\")\n",
        "\n",
        "# Create DataFrames from the sequence data\n",
        "seq1_df = pd.DataFrame(list(seq1_data.items()), columns=[\"Name\", \"Sequence\"])\n",
        "seq2_df = pd.DataFrame(list(seq2_data.items()), columns=[\"Name\", \"Sequence\"])\n",
        "\n",
        "# Find common sequences between the two organisms\n",
        "\"\"\"The pd.merge function is used to find common sequences between the two organisms. This is done by merging the DataFrames seq1_df and seq2_df based on the \"Sequence\" column, using an inner join (how=\"inner\").\"\"\"\n",
        "\n",
        "common_sequences = pd.merge(seq1_df, seq2_df, on=\"Sequence\", how=\"inner\")\n",
        "\n",
        "# Display the common sequences\n",
        "print(\"Common Sequences:\")\n",
        "print(common_sequences)"
      ],
      "metadata": {
        "id": "WBwuu6vFOZF2"
      },
      "execution_count": null,
      "outputs": []
    },
    {
      "cell_type": "markdown",
      "source": [
        "**Day 22 : Python code to demonstrate matrix multiplication (performing linear algebra operations) for gene expression analysis using the NumPy library.**"
      ],
      "metadata": {
        "id": "VwnPucatXlfi"
      }
    },
    {
      "cell_type": "code",
      "source": [
        "# Import NumPy\n",
        "import numpy as np\n",
        "\n",
        "# Perform matrix multiplication for gene expression analysis\n",
        "\"\"\" Below, the line creates a random gene expression matrix with dimensions 10 rows (genes) and 5 columns (samples). Here, np.random.rand has been used to generate random values between 0 and 1, which simulates gene expression levels.\"\"\"\n",
        "gene_expression_matrix = np.random.rand(10, 5)\n",
        "\n",
        "\n",
        "\"\"\"Below, the line creates a transformation matrix with dimensions 5 rows (samples) and 3 columns (factors). This matrix represents the factors that may influence gene expression in each sample.\"\"\"\n",
        "transformation_matrix = np.random.rand(5, 3)\n",
        "\n",
        "\n",
        "\"\"\"Below, the np.dot function has been used to perform matrix multiplication between the gene expression matrix and the transformation matrix. Matrix multiplication combines the gene expression data with the factors, resulting in a new matrix.\"\"\"\n",
        "result = np.dot(gene_expression_matrix, transformation_matrix)\n",
        "\n",
        "# Print the result\n",
        "print(\"Resulting Expression Matrix:\", result)\n",
        "\n",
        "# you can print to see the generated 'gene_expression_matrix' and 'transformation_matrix'."
      ],
      "metadata": {
        "id": "y3_zWRUuOdb-",
        "colab": {
          "base_uri": "https://localhost:8080/"
        },
        "outputId": "9b13752e-dd51-4111-c05a-d0dfbb6b87ca"
      },
      "execution_count": null,
      "outputs": [
        {
          "output_type": "stream",
          "name": "stdout",
          "text": [
            "Resulting Expression Matrix: [[1.59680931 1.45881388 1.51550533]\n",
            " [1.72489665 1.50122984 1.97923465]\n",
            " [0.61006302 0.97905764 0.44540989]\n",
            " [1.70197703 2.06682553 1.69612797]\n",
            " [1.81181587 1.74665891 1.81624778]\n",
            " [1.16635522 1.32208088 1.7604164 ]\n",
            " [1.99488461 1.74998668 1.34482011]\n",
            " [1.72519768 1.33633558 0.92261861]\n",
            " [0.91640809 1.2148953  0.60519494]\n",
            " [1.71294931 1.84011103 1.66610147]]\n"
          ]
        }
      ]
    },
    {
      "cell_type": "markdown",
      "source": [
        "**Day 23 : Python code to demonstrate the basic steps of working with biological sequences using Biopython.**"
      ],
      "metadata": {
        "id": "y8zhCdQeXsVq"
      }
    },
    {
      "cell_type": "code",
      "source": [
        "try:\n",
        "    import google.colab\n",
        "    # Running on Google Colab, so install Biopython first\n",
        "    !pip install biopython\n",
        "except ImportError:\n",
        "    pass"
      ],
      "metadata": {
        "colab": {
          "base_uri": "https://localhost:8080/"
        },
        "id": "wRuuGPI3Jhnk",
        "outputId": "02578cb6-e3d9-44ca-a129-97dd1adc3ef1"
      },
      "execution_count": null,
      "outputs": [
        {
          "output_type": "stream",
          "name": "stdout",
          "text": [
            "Collecting biopython\n",
            "  Downloading biopython-1.81-cp310-cp310-manylinux_2_17_x86_64.manylinux2014_x86_64.whl (3.1 MB)\n",
            "\u001b[2K     \u001b[90m━━━━━━━━━━━━━━━━━━━━━━━━━━━━━━━━━━━━━━━━\u001b[0m \u001b[32m3.1/3.1 MB\u001b[0m \u001b[31m20.6 MB/s\u001b[0m eta \u001b[36m0:00:00\u001b[0m\n",
            "\u001b[?25hRequirement already satisfied: numpy in /usr/local/lib/python3.10/dist-packages (from biopython) (1.23.5)\n",
            "Installing collected packages: biopython\n",
            "Successfully installed biopython-1.81\n"
          ]
        }
      ]
    },
    {
      "cell_type": "code",
      "source": [
        "\n",
        "#<< It starts with a DNA sequence, transcribes it to RNA, and then translates the RNA to a protein sequence, all of which are printed to the console >>\n",
        "\n",
        "# Import Biopython\n",
        "# https://www.tutorialspoint.com/biopython/biopython_quick_guide.htm\n",
        "import Bio\n",
        "\n",
        "\"\"\"Import the necessary module\"\"\"\n",
        "from Bio.Seq import Seq\n",
        "\n",
        "\"\"\"The line above, imports the Seq class from the Biopython Bio.Seq module.\n",
        "This class is used for representing biological sequences.\"\"\"\n",
        "\n",
        "# Create a DNA sequence\n",
        "dna_sequence = Seq(\"ATGGATATGGTACGCTGTTACGTA\")\n",
        "\n",
        "# Transcribe DNA to RNA\n",
        "\"\"\"Using the transcribe() method on the dna_sequence to transcribe the DNA sequence into an RNA sequence. The resulting RNA sequence is stored in the rna_sequence variable.\"\"\"\n",
        "\n",
        "rna_sequence = dna_sequence.transcribe()\n",
        "\n",
        "# Translate RNA to protein\n",
        "\"\"\"Using the translate() method on the rna_sequence to translate it into a protein sequence. The resulting protein sequence is stored in the protein_sequence variable.\"\"\"\n",
        "\n",
        "protein_sequence = rna_sequence.translate()\n",
        "\n",
        "# Print the results\n",
        "print(f\"DNA: {dna_sequence}\")\n",
        "print(f\"RNA: {rna_sequence}\")\n",
        "print(f\"Protein: {protein_sequence}\")\n",
        "\n",
        "# Output\n",
        "'''DNA: ATGGATATGGTACGCTGTTACGTA\n",
        "RNA: AUGGAUAUGGUACGCUGUUACGUA\n",
        "Protein: MDMVRCYV'''\n"
      ],
      "metadata": {
        "id": "2PItYD7sOhrm",
        "colab": {
          "base_uri": "https://localhost:8080/",
          "height": 87
        },
        "outputId": "6f9ba4e3-3d8f-4bfe-912b-e9a4de2d8c56"
      },
      "execution_count": null,
      "outputs": [
        {
          "output_type": "stream",
          "name": "stdout",
          "text": [
            "DNA: ATGGATATGGTACGCTGTTACGTA\n",
            "RNA: AUGGAUAUGGUACGCUGUUACGUA\n",
            "Protein: MDMVRCYV\n"
          ]
        },
        {
          "output_type": "execute_result",
          "data": {
            "text/plain": [
              "'DNA: ATGGATATGGTACGCTGTTACGTA\\nRNA: AUGGAUAUGGUACGCUGUUACGUA\\nProtein: MDMVRCYV'"
            ],
            "application/vnd.google.colaboratory.intrinsic+json": {
              "type": "string"
            }
          },
          "metadata": {},
          "execution_count": 34
        }
      ]
    },
    {
      "cell_type": "markdown",
      "source": [
        "**Day 24 : Python code to demonstrate how to read and write sequences in FASTA format using Biopython.**"
      ],
      "metadata": {
        "id": "QrLVFCQQX2Dj"
      }
    },
    {
      "cell_type": "code",
      "source": [
        "# Import Biopython\n",
        "import Bio\n",
        "\n",
        "from Bio import SeqIO\n",
        "\"\"\"This line imports the SeqIO module from Biopython, which provides functions for reading and writing sequences in various file formats, including FASTA.\"\"\"\n",
        "\n",
        "from Bio.Seq import Seq\n",
        "\"\"\"The Seq class in Biopython represents biological sequences, such as DNA, RNA, or protein sequences. It provides methods and attributes for manipulating and working with these sequences\"\"\"\n",
        "\n",
        "# Read a FASTA file\n",
        "with open(\"/content/rcsb_pdb_4DPI.fasta\", \"r\") as fasta_file:\n",
        " records = SeqIO.parse(fasta_file, \"fasta\")\n",
        " \"\"\"Using SeqIO.parse to parse the contents of the file, assuming it contains sequences in FASTA format.\"\"\"\n",
        "\n",
        " for record in records:\n",
        "  print(f\"ID: {record.id}\")\n",
        "  print(f\"Sequence: {record.seq}\")\n",
        "\n",
        "# Write a FASTA file\n",
        "from Bio.SeqRecord import SeqRecord\n",
        "\n",
        "#import the SeqRecord class from Biopython, which is used to create a new sequence record\n",
        "\n",
        "new_record = SeqRecord(Seq(\"ATGTTAGCTAGAATGGTACC\"), id=\"example_sequence\")\n",
        "\n",
        "SeqIO.write(new_record, \"new_sequence.fasta\", \"fasta\")\n",
        "\"\"\"Using SeqIO.write to write the new_record to a new FASTA file called \"new_sequence.fasta\" in FASTA format.\"\"\""
      ],
      "metadata": {
        "id": "O9NoYQF-OorN",
        "colab": {
          "base_uri": "https://localhost:8080/",
          "height": 90
        },
        "outputId": "407da24e-27e6-43d4-91a4-e5c596b96639"
      },
      "execution_count": null,
      "outputs": [
        {
          "output_type": "stream",
          "name": "stdout",
          "text": [
            "ID: 4DPI_1|Chain\n",
            "Sequence: MRGSFVEMVDNLRGKSGQGYYVEMTVGSPPQTLNILVDTGSSNFAVGAAPHPFLHRYYQRQLSSTYRDLRKGVYVPYTQGKWEGELGTDLVSIPHGPNVTVRANIAAITESDKFFINGSNWEGILGLAYAEIARPDDSLEPFFDSLVKQTHVPNLFSLQLCGAGFPLNQSEVLASVGGSMIIGGIDHSLYTGSLWYTPIRREWYYEVIIVRVEINGQDLKMDCKEYNYDKSIVDSGTTNLRLPKKVFEAAVKSIKAASSTEKFPDGFWLGEQLVCWQAGTTPWNIFPVISLYLMGEVTNQSFRITILPQQYLRPVEDVATSQDDCYKFAISQSSTGTVMGAVIMEGFYVVFDRARKRIGFAVSACHVHDEFRTAAVEGPFVTLDMEDCGYN\n"
          ]
        },
        {
          "output_type": "execute_result",
          "data": {
            "text/plain": [
              "'Using SeqIO.write to write the new_record to a new FASTA file called \"new_sequence.fasta\" in FASTA format.'"
            ],
            "application/vnd.google.colaboratory.intrinsic+json": {
              "type": "string"
            }
          },
          "metadata": {},
          "execution_count": 7
        }
      ]
    },
    {
      "cell_type": "markdown",
      "source": [
        "**Day 25 : Python code that uses Biopython to perform a BLAST search using a query sequence from a FASTA file:**"
      ],
      "metadata": {
        "id": "nZKJ7mxTX86y"
      }
    },
    {
      "cell_type": "code",
      "source": [
        "# Import Biopython\n",
        "import Bio\n",
        "\n",
        "# Imports the NCBIWWW, NCBIXML, SeqIO\n",
        "from Bio.Blast import NCBIWWW, NCBIXML\n",
        "from Bio import SeqIO\n",
        "\"\"\"This code imports the NCBIWWW, NCBIXML module for performing BLAST searches\n",
        "and the SeqIO module for reading sequences from a FASTA file.\"\"\"\n",
        "\n",
        "# Load the query sequence from a FASTA file\n",
        "query_sequence = SeqIO.read(\"query.fasta\", \"fasta\")\n",
        "\"\"\" # This line reads a sequence from a FASTA file named \"query.fasta\" using SeqIO.read().\n",
        "# \"query.fasta\" should be located in the same directory as your Python script,\n",
        "or you can provide the full path to the file.\"\"\"\n",
        "\n",
        "# Perform a BLAST search\n",
        "result_handle = NCBIWWW.qblast(\"blastn\", \"nt\", query_sequence.seq)\n",
        "\"\"\"\n",
        "# This line initiates a BLAST search using NCBIWWW.qblast().\n",
        "# The first argument, \"blastn,\" specifies the BLAST program to use (nucleotide-nucleotide BLAST).\n",
        "# The second argument, \"nt,\" specifies the database to search against (NCBI nucleotide database).\n",
        "# query_sequence.seq contains the sequence data from the \"query.fasta\" file and is used as the query sequence.\"\"\"\n",
        "\n",
        "\n",
        "# Save the BLAST results to a file\n",
        "with open(\"blast_results.xml\", \"w\") as result_file:\n",
        " result_file.write(result_handle.read())\n",
        "\n",
        " \"\"\"    This block of code opens a file named \"blast_results.xml\" in write mode (\"w\"). It writes the content of the result_handle to this file. The result is in XML format. After writing, the file is closed automatically when the with block exits.\"\"\"\n",
        "\n",
        "# Close the result handle\n",
        "result_handle.close()"
      ],
      "metadata": {
        "id": "6L1G6vwyOyd2"
      },
      "execution_count": null,
      "outputs": []
    },
    {
      "cell_type": "markdown",
      "source": [
        "**Day 26 : Python code for parsing GenBank files and creating SeqRecord objects.**"
      ],
      "metadata": {
        "id": "KRHZ4DKQYDw6"
      }
    },
    {
      "cell_type": "code",
      "source": [
        "# Import Biopython\n",
        "import Bio\n",
        "\n",
        "# Import the necessary modules from Biopython\n",
        "from Bio import SeqIO\n",
        "\n",
        "# Path to your GenBank file\n",
        "genbank_file = \"genbank_file.gb\"\n",
        "\n",
        "# Initialize an empty list to store SeqRecord objects\n",
        "seq_records = []\n",
        "\"\"\"This creates an empty list named 'seq_records' that will be used to store SeqRecord objects parsed from the GenBank file.\"\"\"\n",
        "\n",
        "# Open and parse the GenBank file, and store SeqRecord objects in the list\n",
        "\"\"\"# This opens the specified GenBank file using a with statement, ensuring that the file is properly closed after reading.\n",
        " # It then uses the SeqIO.parse function to read and parse the GenBank file. The \"genbank\" argument indicates that the file format is GenBank.\n",
        " # For each SeqRecord found in the GenBank file, it appends the record to the seq_records list.\"\"\"\n",
        "with open(genbank_file, \"r\") as handle:\n",
        " for record in SeqIO.parse(handle, \"genbank\"):\n",
        " seq_records.append(record)\n",
        "\n",
        "# Now we have a list of SeqRecord objects\n",
        "# We can access information from these objects, for example:\n",
        "\"\"\" # This loop iterates through the list of SeqRecord objects stored in seq_records.\n",
        " # For each SeqRecord, it prints the accession ID, description, and sequence length.\n",
        " You can access other attributes of the SeqRecord as needed.\"\"\"\n",
        "for record in seq_records:\n",
        " print(\"Accession:\", record.id)\n",
        " print(\"Description:\", record.description)\n",
        " print(\"Sequence length:\", len(record.seq))"
      ],
      "metadata": {
        "id": "lKaWntshO299"
      },
      "execution_count": null,
      "outputs": []
    },
    {
      "cell_type": "markdown",
      "source": [
        "**Day 27 : Python code that uses Biopython to create SeqRecord objects from a FASTA file.**"
      ],
      "metadata": {
        "id": "hsq6BlfqYKdZ"
      }
    },
    {
      "cell_type": "code",
      "source": [
        "# Import Biopython\n",
        "import Bio\n",
        "\n",
        "# Import the necessary modules from Biopython.\n",
        "\"\"\"SeqIO for reading sequence files and SeqRecord for representing sequence records.\"\"\"\n",
        "from Bio import SeqIO\n",
        "from Bio.SeqRecord import SeqRecord\n",
        "\n",
        "# Specify the FASTA file.\n",
        "fasta_file = \"query.fasta\"\n",
        "\n",
        "# Create a list to store SeqRecord objects\n",
        "\"\"\"Initialize an empty list named seq_records to store the SeqRecord objects.\"\"\"\n",
        "seq_records = []\n",
        "\n",
        "# Iterate through the records in the FASTA file\n",
        "for record in SeqIO.parse(fasta_file, \"fasta\"):\n",
        " \"\"\"Biopython's SeqIO.parse function iterate through the records in the specified FASTA file. The loop variable record represents each record in the file during each iteration.\"\"\"\n",
        "\n",
        " # Create a SeqRecord object for each record\n",
        " \"\"\"For each record, create a SeqRecord object using the sequence (record.seq), record ID (record.id), and record description (record.description).\n",
        " This represents the basic information of the sequence record.\"\"\"\n",
        " seq_record = SeqRecord(record.seq, id=record.id, description=record.description)\n",
        "\n",
        " # You can add more features or annotations to the SeqRecord if needed\n",
        " # e.g., seq_record.features.append(SeqFeature(....))\n",
        "\n",
        " # Append the SeqRecord to the list\n",
        " seq_records.append(seq_record)\n",
        "\n",
        "# Print the SeqRecord objects\n",
        "for seq_record in seq_records:\n",
        " print(seq_record.id)\n",
        " print(seq_record.seq)\n",
        " print(seq_record.description)"
      ],
      "metadata": {
        "id": "hF0aGhH-O7wm"
      },
      "execution_count": null,
      "outputs": []
    },
    {
      "cell_type": "markdown",
      "source": [
        "**Day 28 : Python code for fetching a sequence from NCBI using Biopython.**"
      ],
      "metadata": {
        "id": "wI2fGD9OYUHJ"
      }
    },
    {
      "cell_type": "code",
      "source": [
        "# Import BioPython\n",
        "import Bio\n",
        "\n",
        "# Import Biopython modules\n",
        "\"\"\" # Import the SeqIO modules from Biopython for reading sequence files.\n",
        "# Import the Entrez module from Biopython, which provides access to the NCBI (National Center for Biotechnology Information) databases.\"\"\"\n",
        "from Bio import SeqIO\n",
        "from Bio import Entrez\n",
        "\n",
        "# Provide your email address for NCBI services\n",
        "Entrez.email = \"example@mail.com\"\n",
        "\n",
        "# Specify the accession number of the nucleotide sequence\n",
        "accession_number = \"NM_001301716.1\"\n",
        "\n",
        "# Fetch the sequence from the NCBI nucleotide database\n",
        "handle = Entrez.efetch(db=\"nucleotide\", id=accession_number, rettype=\"gb\", retmode=\"text\")\n",
        "\"\"\"Use the Entrez.efetch function to retrieve information from the NCBI nucleotide database. Parameters include the database (db), the identifier (id), the return type (rettype), and the return mode (retmode).\n",
        "In this case, it fetches the GenBank-formatted data (rettype=\"gb\") in plain text (retmode=\"text\").\"\"\"\n",
        "\n",
        "# Read the GenBank-formatted data using SeqIO\n",
        "record = SeqIO.read(handle, \"genbank\")"
      ],
      "metadata": {
        "id": "GS_prSjoPAU1"
      },
      "execution_count": null,
      "outputs": []
    },
    {
      "cell_type": "markdown",
      "source": [
        "**Day 29 : Python code for reading a PDB file using Biopython.**"
      ],
      "metadata": {
        "id": "kicxFOJBaQuq"
      }
    },
    {
      "cell_type": "code",
      "source": [
        "# Import Biopython\n",
        "import Bio\n",
        "\n",
        "# Import the PDBParser class from Bio.PDB\n",
        "from Bio.PDB import PDBParser\n",
        "\n",
        "# Specify the PDB file\n",
        "pdb_filename = \"yourfile.pdb\"\n",
        "\n",
        "# Create a PDBParser object\n",
        "parser = PDBParser()\n",
        "\n",
        "# Parse the PDB file and get the structure\n",
        "\"\"\"The 'get_structure' method of the PDBParser object is used to parse the specified PDB file and obtain a hierarchical representation of the structure.\"\"\"\n",
        "structure = parser.get_structure(\"yourfile\", pdb_filename)\n",
        "\n",
        "# Iterate through the structure\n",
        "for model in structure:\n",
        " # Iterate through the models\n",
        " for chain in model:\n",
        " # Iterate through the chains\n",
        " for residue in chain:\n",
        " # Print info about each residue\n",
        " print(residue)"
      ],
      "metadata": {
        "id": "kMyn5JBePDJO"
      },
      "execution_count": null,
      "outputs": []
    },
    {
      "cell_type": "markdown",
      "source": [
        "**Day 30 : Python code for fetching Protein Structure from RCSB PDB using biopython.**"
      ],
      "metadata": {
        "id": "En0gH91LaWMR"
      }
    },
    {
      "cell_type": "code",
      "source": [
        "\n",
        "\n",
        "# Import Biopython\n",
        "import Bio\n",
        "\n",
        "# Import PDBList from Bio.PDB\n",
        "from Bio.PDB import PDBList\n",
        "\n",
        "# Specify the PDB code\n",
        "pdb_code = \"1YY8\"\n",
        "\n",
        "# Create a PDBList object\n",
        "pdb_list = PDBList()\n",
        "\n",
        "# Retrieve the PDB file\n",
        "\"\"\"The retrieve_pdb_file method of the PDBList object is used to download the PDB file associated with the specified PDB code.\n",
        "The file_format=\"pdb\" argument specifies that the file should be in the PDB format.\"\"\"\n",
        "pdb_list.retrieve_pdb_file(pdb_code, file_format=\"pdb\")"
      ],
      "metadata": {
        "id": "u9Psc15XPF_9"
      },
      "execution_count": null,
      "outputs": []
    },
    {
      "cell_type": "markdown",
      "source": [
        "**Day 31 : Python code for creating a random protein sequence of length 50 (using the standard 20 amino acids) using biopython.**"
      ],
      "metadata": {
        "id": "J3vvY-u9aqNB"
      }
    },
    {
      "cell_type": "code",
      "source": [
        "# Import Biopython\n",
        "import Bio\n",
        "\n",
        "# Import necessary modules\n",
        "from Bio.Seq import Seq\n",
        "import random\n",
        "\n",
        "# Define the alphabet for amino acids\n",
        "amino_acids = \"ACDEFGHIKLMNPQRSTVWY\"\n",
        "\n",
        "# Generate a random protein sequence of length 50\n",
        "\"\"\" #'random.choice' is used to create a random sequence of amino acids.\n",
        "# Convert the generated sequence (a string) into a Biopython 'Seq' object.\n",
        "This allows to perform various sequence-related operations using Biopython.\"\"\"\n",
        "\n",
        "random_protein_sequence = Seq(\"\".join(random.choice(amino_acids) for _ in range(50)))\n",
        "\n",
        "# Print the random protein sequence\n",
        "print(random_protein_sequence)"
      ],
      "metadata": {
        "id": "Bl0Cog-ZPJxF"
      },
      "execution_count": null,
      "outputs": []
    },
    {
      "cell_type": "markdown",
      "source": [
        "**Day 32 : Python code for calculating percentage amino acid composition of each amino acid in the protein sequence using biopython.**"
      ],
      "metadata": {
        "id": "X2q0v4U3avIS"
      }
    },
    {
      "cell_type": "code",
      "source": [
        "# Import Biopython\n",
        "import Bio\n",
        "\n",
        "# Import necessary modules\n",
        "\"\"\"The 'ProtParam' class, which is part of Biopython's SeqUtils module\n",
        "provides tools for analyzing biological sequences, including protein sequences.\"\"\"\n",
        "from Bio.SeqUtils import ProtParam\n",
        "from Bio.Seq import Seq\n",
        "\n",
        "# Define a protein sequence\n",
        "protein_sequence = Seq(\"VRVPSLEFYRTEREAMPGEHQFDIGPQETPKWCKKTLAGTYPVYCKPTMV\")\n",
        "\n",
        "# Create a ProteinAnalysis object\n",
        "protein_analysis = ProtParam.ProteinAnalysis(str(protein_sequence))\n",
        "\n",
        "# Calculate the amino acid composition\n",
        "\"\"\" The 'get_amino_acids_percent' method of the ProteinAnalysis object\n",
        "calculates the percentage composition of each amino acid in the protein sequence.\"\"\"\n",
        "aa_composition = protein_analysis.get_amino_acids_percent()\n",
        "\n",
        "# Print the amino acid composition\n",
        "print(aa_composition)"
      ],
      "metadata": {
        "id": "BinyqgyfPMGV"
      },
      "execution_count": null,
      "outputs": []
    },
    {
      "cell_type": "markdown",
      "source": [
        "**Day 33 : Python code that creates three SeqRecord objects and then writes them to a FASTA file using Biopython.**"
      ],
      "metadata": {
        "id": "IoAPrqqfazKR"
      }
    },
    {
      "cell_type": "code",
      "source": [
        "# Import Biopython\n",
        "import Bio\n",
        "\n",
        "# Import necessary modules from Biopython\n",
        "from Bio.Seq import Seq\n",
        "from Bio.SeqRecord import SeqRecord\n",
        "from Bio import SeqIO\n",
        "\n",
        "# Create three SeqRecord objects\n",
        "\"\"\"Three SeqRecord objects are created, each with a unique sequence (Seq), identifier (id), and description\"\"\"\n",
        "seq_record_1 = SeqRecord(Seq(\"ATCGTGTACTAGGCATGAACGTA\"), id=\"seq1\", description=\"First sequence\")\n",
        "seq_record_2 = SeqRecord(Seq(\"GCTAGCTAATGTGATTATATGGC\"), id=\"seq2\", description=\"Second sequence\")\n",
        "seq_record_3 = SeqRecord(Seq(\"TTAAGCGTAATGTCGCTGTATAA\"), id=\"seq3\", description=\"Third sequence\")\n",
        "\n",
        "# Combine SeqRecord objects into a list\n",
        "seq_records = [seq_record_1, seq_record_2, seq_record_3]\n",
        "\n",
        "# Specify the output file name and format\n",
        "output_file = \"output.fasta\"\n",
        "output_format = \"fasta\"\n",
        "\n",
        "# Write SeqRecord objects to the output file in FASTA format\n",
        "\"\"\"The 'SeqIO.write' function is used to write the seq_records\n",
        "list to the specified output file (\"output.fasta\") in FASTA format. \"\"\"\n",
        "with open(output_file, \"w\") as output_handle:\n",
        " SeqIO.write(seq_records, output_handle, output_format)\n",
        "\n",
        "# Print a success message to indicate that the SeqRecord objects have been successfully written\n",
        "print(f\"SeqRecord objects written to {output_file} in {output_format} format.\")"
      ],
      "metadata": {
        "id": "zzOZ8vzePP4n"
      },
      "execution_count": null,
      "outputs": []
    },
    {
      "cell_type": "markdown",
      "source": [
        "**Day 34 : Python code to create an alignment and then slice it using biopython.**"
      ],
      "metadata": {
        "id": "9eljMCQGa3mZ"
      }
    },
    {
      "cell_type": "code",
      "source": [
        "# Import Biopython\n",
        "import Bio\n",
        "\n",
        "# Import necessary modules\n",
        "from Bio.Seq import Seq\n",
        "from Bio.SeqRecord import SeqRecord\n",
        "from Bio import Align\n",
        "\n",
        "# Create a simple alignment\n",
        "alignment_data = [\n",
        " \"ATAGTGGTACGT\",\n",
        " \"ATGCGTTTGG-T\",\n",
        " \"AC-GTGTCGTAT\"\n",
        "]\n",
        "\n",
        "# Create a multiple sequence alignment object\n",
        "alignment = Align.MultipleSeqAlignment([SeqRecord(Seq(seq)) for seq in alignment_data])\n",
        "\n",
        "# Print the original alignment\n",
        "print(\"Original Alignment:\")\n",
        "print(alignment)\n",
        "\n",
        "# Slice the alignment\n",
        "start_position = 1\n",
        "end_position = 5\n",
        "\n",
        "sliced_alignment = alignment[:, start_position:end_position]\n",
        "\n",
        "# Print the sliced alignment\n",
        "print(\"\\nSliced Alignment:\")\n",
        "print(sliced_alignment)\n",
        "\n",
        "# Output\n",
        "'''Original Alignment:\n",
        "Alignment with 3 rows and 12 columns\n",
        "ATAGTGGTACGT <unknown id>\n",
        "ATGCGTTTGG-T <unknown id>\n",
        "AC-GTGTCGTAT <unknown id>\n",
        "\n",
        "Sliced Alignment:\n",
        "Alignment with 3 rows and 4 columns\n",
        "TAGT <unknown id>\n",
        "TGCG <unknown id>\n",
        "C-GT <unknown id>'''"
      ],
      "metadata": {
        "id": "c1gc0GHLPTcF"
      },
      "execution_count": null,
      "outputs": []
    },
    {
      "cell_type": "markdown",
      "source": [
        "**Day 35 : Python code to perform a basic substitution analysis between two sequences in a multiple sequence alignment using biopython.**"
      ],
      "metadata": {
        "id": "7r5dOwQS5wNq"
      }
    },
    {
      "cell_type": "code",
      "source": [
        "# Import Biopython\n",
        "import Bio\n",
        "\n",
        "# Import necessary modules\n",
        "from Bio import Align\n",
        "from Bio.Seq import Seq\n",
        "from Bio.SeqRecord import SeqRecord\n",
        "\n",
        "# Create a simple alignment\n",
        "alignment_data = [\n",
        " \"ACAAGT\",\n",
        " \"AGAT-T\",\n",
        " \"ACATAT\"\n",
        "]\n",
        "\n",
        "# Create a multiple sequence alignment object\n",
        "alignment = Align.MultipleSeqAlignment([SeqRecord(Seq(seq)) for seq in alignment_data])\n",
        "\n",
        "# Print the original alignment\n",
        "print(\"Original Alignment:\")\n",
        "print(alignment)\n",
        "\n",
        "# Select two sequences for substitution analysis\n",
        "seq1 = alignment[0].seq\n",
        "seq2 = alignment[1].seq\n",
        "\n",
        "# Calculate substitutions between the selected sequences\n",
        "substitutions = sum(a != b for a, b in zip(seq1, seq2))\n",
        "\n",
        "# Print substitution information\n",
        "print(f\"\\nSubstitutions between seq1 and seq2: {substitutions}\")\n",
        "\n",
        "# Output\n",
        "'''Original Alignment:\n",
        "Alignment with 3 rows and 6 columns\n",
        "ACAAGT <unknown id>\n",
        "AGAT-T <unknown id>\n",
        "ACATAT <unknown id>\n",
        "\n",
        "Substitutions between seq1 and seq2: 3'''"
      ],
      "metadata": {
        "id": "4jTq-9a3PW69"
      },
      "execution_count": null,
      "outputs": []
    },
    {
      "cell_type": "markdown",
      "source": [
        "**Day 36 : Python code that demonstrates how to iterate over a set of alignments.\n",
        "**"
      ],
      "metadata": {
        "id": "hiMP9hlT58TB"
      }
    },
    {
      "cell_type": "code",
      "source": [
        "# Import BioPython\n",
        "import Bio\n",
        "\n",
        "# Import necessary modules\n",
        "from Bio import Align\n",
        "from Bio.Seq import Seq\n",
        "from Bio.SeqRecord import SeqRecord\n",
        "\n",
        "# Create sequences for alignment\n",
        "sequence1 = Seq(\"AGGTGACCTGGGAGGAGGATGCTTGATATA\")\n",
        "sequence2 = Seq(\"AGGTTACCTTGGAAGGAGAAGGAGGATATA\")\n",
        "sequence3 = Seq(\"ACGTGACCTGGGAGGAGGATGCTTGATATA\")\n",
        "\n",
        "# Create SeqRecord objects for the sequences\n",
        "seq_record1 = SeqRecord(sequence1, id=\"seq1\", description=\"Sequence 1\")\n",
        "seq_record2 = SeqRecord(sequence2, id=\"seq2\", description=\"Sequence 2\")\n",
        "seq_record3 = SeqRecord(sequence3, id=\"seq3\", description=\"Sequence 3\")\n",
        "\n",
        "# Create a list of SeqRecord objects\n",
        "seq_records = [seq_record1, seq_record2, seq_record3]\n",
        "\n",
        "# Create a MultipleSeqAlignment object\n",
        "alignment = Align.MultipleSeqAlignment(seq_records)\n",
        "\n",
        "# Iterate over the alignment\n",
        "for record in alignment:\n",
        " print(f\"ID: {record.id}, Description: {record.description}\")\n",
        " print(f\"Sequence: {record.seq}\")\n",
        " print(\"---\")\n",
        "\n",
        "# Output\n",
        "'''ID: seq1, Description: Sequence 1\n",
        "Sequence: AGGTGACCTGGGAGGAGGATGCTTGATATA\n",
        "---\n",
        "ID: seq2, Description: Sequence 2\n",
        "Sequence: AGGTTACCTTGGAAGGAGAAGGAGGATATA\n",
        "---\n",
        "ID: seq3, Description: Sequence 3\n",
        "Sequence: ACGTGACCTGGGAGGAGGATGCTTGATATA\n",
        "---'''"
      ],
      "metadata": {
        "id": "8C2rcZT7Pa4t"
      },
      "execution_count": null,
      "outputs": []
    },
    {
      "cell_type": "markdown",
      "source": [
        "**Day 37 : Python code that demonstrates how to align a sequence to the reverse strand using Biopython.**"
      ],
      "metadata": {
        "id": "piH5b1OO6L7S"
      }
    },
    {
      "cell_type": "code",
      "source": [
        "# Import BioPython\n",
        "import Bio\n",
        "\n",
        "# Import necessary modules\n",
        "from Bio import Align\n",
        "from Bio.Seq import Seq\n",
        "from Bio.SeqRecord import SeqRecord\n",
        "\n",
        "# Create two sequences for alignment\n",
        "sequence1 = Seq(\"AGGTGACCTGGGAGGAGGATGCTTTG\")\n",
        "sequence2 = Seq(\"AGGTTACCTTGGAAGGAGAAGGAGGT\")\n",
        "\n",
        "# Create SeqRecord objects for the sequences\n",
        "seq_record1 = SeqRecord(sequence1, id=\"seq1\", description=\"Sequence 1\")\n",
        "seq_record2 = SeqRecord(sequence2, id=\"seq2\", description=\"Sequence 2\")\n",
        "\n",
        "# Reverse complement the second sequence\n",
        "reverse_complement_seq2 = seq_record2.seq.reverse_complement()\n",
        "seq_record2_reverse = SeqRecord(reverse_complement_seq2, id=\"seq2_reverse\", description=\"Sequence 2 (Reverse)\")\n",
        "\n",
        "# Create a list of SeqRecord objects\n",
        "seq_records = [seq_record1, seq_record2_reverse]\n",
        "\n",
        "# Create a MultipleSeqAlignment object\n",
        "alignment = Align.MultipleSeqAlignment(seq_records)\n",
        "\n",
        "# Iterate over the alignment\n",
        "for record in alignment:\n",
        " print(f\"ID: {record.id}, Description: {record.description}\")\n",
        " print(f\"Sequence: {record.seq}\")\n",
        " print(\"---\")\n",
        "\n",
        "#Output\n",
        "'''ID: seq1, Description: Sequence 1\n",
        "Sequence: AGGTGACCTGGGAGGAGGATGCTTTG\n",
        "---\n",
        "ID: seq2_reverse, Description: Sequence 2 (Reverse)\n",
        "Sequence: ACCTCCTTCTCCTTCCAAGGTAACCT\n",
        "---'''"
      ],
      "metadata": {
        "id": "J8tV8-BFPeq1"
      },
      "execution_count": null,
      "outputs": []
    },
    {
      "cell_type": "markdown",
      "source": [
        "**Day 38 : Python code that demonstrates how to use Biopython to read a FASTA file and then use NumPy to convert the sequence data into an array.**"
      ],
      "metadata": {
        "id": "hwbKbmmd6ekx"
      }
    },
    {
      "cell_type": "code",
      "source": [
        "# Import Biopython\n",
        "import Bio\n",
        "\n",
        "# Import necessary modules from Biopython and NumPy\n",
        "from Bio import SeqIO\n",
        "import numpy as np\n",
        "\n",
        "# Read sequences from a FASTA file using Biopython\n",
        "fasta_file = \"sequences.fasta\"\n",
        "sequences = [str(record.seq) for record in SeqIO.parse(fasta_file, \"fasta\")]\n",
        "\n",
        "# Convert sequences into a NumPy array\n",
        "\"\"\" # 1. Convert each sequence into a list of characters using list(seq).\n",
        " # 2. Use NumPy's np.array function to stack these lists vertically, creating a 2D array (array_data). Each row represents a sequence, and each column represents a position in the sequence.\"\"\"\n",
        "array_data = np.array([list(seq) for seq in sequences])\n",
        "\n",
        "# Print the NumPy array\n",
        "print(\"NumPy Array:\")\n",
        "print(array_data)"
      ],
      "metadata": {
        "id": "zN5y9IQs6bb7"
      },
      "execution_count": null,
      "outputs": []
    },
    {
      "cell_type": "markdown",
      "source": [
        "**Day 39 : Python code that demonstrates reading a FASTA file with Biopython, manipulating the data with NumPy, and then storing it in a pandas DataFrame.**"
      ],
      "metadata": {
        "id": "VuDw4jSSszfl"
      }
    },
    {
      "cell_type": "code",
      "source": [
        "# Import Biopython\n",
        "import Bio\n",
        "\n",
        "# Import necessary modules from Biopython, NumPy, and pandas\n",
        "from Bio import SeqIO\n",
        "import numpy as np\n",
        "import pandas as pd\n",
        "\n",
        "# Read sequences from a FASTA file using Biopython\n",
        "fasta_file = \"sequences.fasta\"\n",
        "records = list(SeqIO.parse(fasta_file, \"fasta\"))\n",
        "\n",
        "# Extract sequence data into a NumPy array\n",
        "sequences_array = np.array([list(str(record.seq)) for record in records])\n",
        "\n",
        "# Create a pandas DataFrame from the NumPy array\n",
        "df = pd.DataFrame(sequences_array, index=[record.id for record in records])\n",
        "\n",
        "# Display the pandas DataFrame\n",
        "print(\"Pandas DataFrame:\")\n",
        "print(df)\n"
      ],
      "metadata": {
        "id": "CRy617SYsxEv"
      },
      "execution_count": null,
      "outputs": []
    },
    {
      "cell_type": "markdown",
      "source": [
        "**Day 40 : Python code that retrieves a Swiss-Prot record by its accession number from the UniProt server.**"
      ],
      "metadata": {
        "id": "Ppj5OK1EjU_6"
      }
    },
    {
      "cell_type": "code",
      "source": [
        "# Import Biopython\n",
        "import Bio\n",
        "\n",
        "# Import the 'requests' Library\n",
        "import requests\n",
        "\n",
        "# Define the function\n",
        "def fetch_swissprot_record(accession_number):\n",
        " # UniProt REST API URL for retrieving Swiss-Prot records\n",
        " api_url = f\"https://lnkd.in/dYqprAUf\"\n",
        " \"\"\"Here, the .txt extension specifies that we want to retrieve the data in plain text format\"\"\"\n",
        "\n",
        " # Make a GET request to the API\n",
        " \"\"\"The 'requests.get' function, to make a GET request to the UniProt API using the constructed URL\"\"\"\n",
        " response = requests.get(api_url)\n",
        "\n",
        " # Check if the request was successful (status code 200)\n",
        " if response.status_code == 200:\n",
        " # Print the Swiss-Prot record content\n",
        " print(response.text)\n",
        " else:\n",
        " print(f\"Error retrieving Swiss-Prot record. Status code: {response.status_code}\")\n",
        "\n",
        "# Replace 'P12345' with the actual accession number you want to retrieve\n",
        "accession_number_to_retrieve = 'P12345'\n",
        "\n",
        "# Call the function to fetch the Swiss-Prot record\n",
        "fetch_swissprot_record(accession_number_to_retrieve)"
      ],
      "metadata": {
        "id": "4hoJp7omjRKt"
      },
      "execution_count": null,
      "outputs": []
    },
    {
      "cell_type": "markdown",
      "source": [
        "**Day 41 : Python code that demonstrates how to create a motif from instances using Biopython.**"
      ],
      "metadata": {
        "id": "1bIRwP2njiyU"
      }
    },
    {
      "cell_type": "code",
      "source": [
        "# Import Biopython\n",
        "import Bio\n",
        "\n",
        "# Import the necessary module\n",
        "from Bio import motifs\n",
        "\n",
        "# Define instances (sequences)\n",
        "instances = [\"ACGT\", \"ATGC\", \"AGCT\", \"CGTA\"]\n",
        "\n",
        "# Create a motif from instances\n",
        "motif = motifs.create(instances)\n",
        "\n",
        "# Print the motif\n",
        "print(\"Motif:\")\n",
        "print(motif)\n",
        "\n",
        "# Output\n",
        "'''Motif:\n",
        "ACGT\n",
        "ATGC\n",
        "AGCT\n",
        "CGTA'''"
      ],
      "metadata": {
        "id": "3ACkXGesji5a"
      },
      "execution_count": null,
      "outputs": []
    },
    {
      "cell_type": "markdown",
      "source": [
        "**Day 42 : Python code that search for instances of a motif in a sequence using BioPython.**"
      ],
      "metadata": {
        "id": "LddqOVp-j-2V"
      }
    },
    {
      "cell_type": "code",
      "source": [
        "\n",
        "# Import Biopython\n",
        "import Bio\n",
        "\n",
        "# Import necessary modules\n",
        "from Bio.Seq import Seq\n",
        "from Bio import motifs\n",
        "\n",
        "# Define the sequence\n",
        "sequence = Seq(\"ATCGATCGATCGAGCT\")\n",
        "\n",
        "# Define the motif\n",
        "motif = motifs.create([Seq(\"ATCG\")])\n",
        "\n",
        "# Search for instances of the motif in the sequence\n",
        "instances = list(motif.instances.search(sequence))\n",
        "\n",
        "# Print the positions where the motif is found\n",
        "print(\"Motif found at positions:\", instances)\n",
        "\n",
        "# Output\n",
        "Motif found at positions: [(0, Seq('ATCG')), (4, Seq('ATCG')), (8, Seq('ATCG'))]"
      ],
      "metadata": {
        "id": "FszoUtQZj9fE"
      },
      "execution_count": null,
      "outputs": []
    },
    {
      "cell_type": "markdown",
      "source": [
        "**Day 43 : Python code that creates a motif from a list of instances and then prints the Position-Specific Scoring Matrix (PSSM) associated with that motif.**"
      ],
      "metadata": {
        "id": "iA4QsNXekH1a"
      }
    },
    {
      "cell_type": "code",
      "source": [
        "# Import the necessary module\n",
        "from Bio import motifs\n",
        "\n",
        "# Define instances (sequences)\n",
        "instances = [\"ACGT\", \"ATGC\", \"AGCT\", \"CGTA\"]\n",
        "\n",
        "# Create a motif from instances:\n",
        "motif = motifs.create(instances)\n",
        "\n",
        "# Access the Position-Specific Scoring Matrix (PSSM)\n",
        "pssm = motif.pssm\n",
        "\n",
        "# Print the PSSM\n",
        "print(pssm)\n",
        "\n",
        "# Output\n",
        " 0 1 2 3\n",
        "A: 1.58 -inf -inf 0.00\n",
        "C: 0.00 0.00 0.00 0.00\n",
        "G: -inf 1.00 1.00 -inf\n",
        "T: -inf 0.00 0.00 1.00"
      ],
      "metadata": {
        "id": "z_RLGW1TkFzT"
      },
      "execution_count": null,
      "outputs": []
    }
  ]
}